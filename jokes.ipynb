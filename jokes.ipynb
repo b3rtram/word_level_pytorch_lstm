{
  "nbformat": 4,
  "nbformat_minor": 0,
  "metadata": {
    "colab": {
      "name": "jokes.ipynb",
      "provenance": [],
      "collapsed_sections": [],
      "mount_file_id": "1MSeobtZFkdEDl_KBekrUQyKtq18Ft6WW",
      "authorship_tag": "ABX9TyPIvrxGOQhkc7FmiI2KkPCJ",
      "include_colab_link": true
    },
    "kernelspec": {
      "display_name": "Python 3",
      "name": "python3"
    },
    "language_info": {
      "name": "python"
    }
  },
  "cells": [
    {
      "cell_type": "markdown",
      "metadata": {
        "id": "view-in-github",
        "colab_type": "text"
      },
      "source": [
        "<a href=\"https://colab.research.google.com/github/camen6ert/word_level_pytorch_lstm/blob/main/jokes.ipynb\" target=\"_parent\"><img src=\"https://colab.research.google.com/assets/colab-badge.svg\" alt=\"Open In Colab\"/></a>"
      ]
    },
    {
      "cell_type": "code",
      "metadata": {
        "id": "9aect9hm9B90"
      },
      "source": [
        "#!pip install cloud-tpu-client==0.10 https://storage.googleapis.com/tpu-pytorch/wheels/torch_xla-1.9-cp37-cp37m-linux_x86_64.whl\n",
        "\n",
        "#VERSION = \"nightly\"  #@param [\"1.5\" , \"20200325\", \"nightly\"]\n",
        "#!curl https://raw.githubusercontent.com/pytorch/xla/master/contrib/scripts/env-setup.py -o pytorch-xla-env-setup.py\n",
        "#!python pytorch-xla-env-setup.py --version $VERSION"
      ],
      "execution_count": null,
      "outputs": []
    },
    {
      "cell_type": "code",
      "metadata": {
        "id": "Nz9YgIo3-80Z",
        "colab": {
          "base_uri": "https://localhost:8080/"
        },
        "outputId": "20d76832-054a-46e3-dd19-bccaeb907e00"
      },
      "source": [
        "# imports pytorch\n",
        "import torch\n",
        "\n",
        "!nvidia-smi\n",
        "\n",
        "# imports the torch_xla package\n",
        "#import torch_xla\n",
        "#import torch_xla.core.xla_model as xm"
      ],
      "execution_count": 30,
      "outputs": [
        {
          "output_type": "stream",
          "text": [
            "NVIDIA-SMI has failed because it couldn't communicate with the NVIDIA driver. Make sure that the latest NVIDIA driver is installed and running.\n",
            "\n"
          ],
          "name": "stdout"
        }
      ]
    },
    {
      "cell_type": "code",
      "metadata": {
        "id": "xSy6n--_CZyP",
        "colab": {
          "base_uri": "https://localhost:8080/"
        },
        "outputId": "fec92bbd-363e-4e10-ce60-282cf347b754"
      },
      "source": [
        "device = 'cuda' if torch.cuda.is_available() else 'cpu'\n",
        "\n",
        "train_on_gpu = False\n",
        "\n",
        "if device == 'cuda':\n",
        "  train_on_gpu = True\n",
        "\n",
        "print('Using {} device'.format(device))\n",
        "\n",
        "#device = xm.xla_device()\n",
        "#print(device)"
      ],
      "execution_count": 31,
      "outputs": [
        {
          "output_type": "stream",
          "text": [
            "Using cpu device\n"
          ],
          "name": "stdout"
        }
      ]
    },
    {
      "cell_type": "code",
      "metadata": {
        "id": "K4_tHF6klmfQ",
        "colab": {
          "base_uri": "https://localhost:8080/"
        },
        "outputId": "7283fb6f-a233-4602-dfcf-0c296fe23c41"
      },
      "source": [
        "import re\n",
        "\n",
        "f = open(\"/content/drive/MyDrive/Colab Notebooks/data/witze2.txt\", \"r\")\n",
        "\n",
        "jokes = f.read()\n",
        "\n",
        "jokes = re.sub(r'[^\\w\\s\\n]','',jokes.lower())\n",
        "jokes = jokes.split(\"\\n\")\n",
        "print(jokes[:50])"
      ],
      "execution_count": 32,
      "outputs": [
        {
          "output_type": "stream",
          "text": [
            "['zwei bauern am stammtisch ich hab letzte woche alle meine tiere markieren müssen mit nem ring im linken ohr sauarbeit sag ich dir kann ich mir denken die ganzen kühe schweine schafe ja aber das schlimmste waren die bienen ', 'ein scharr nonnen kam zu petrus und wollt in den himmel petrus zur ersten nonne hast du schonmal einen penis angefasst die nonne ja aber nur mit der fingerspitze petrus dann tauche deine fingerspitze ins weihwasser und geh in den himmel petrus zur zweiten nonne hast du schonmal einen penis angefasst die nonne naja ich muss gestehen ich habe ihn massiert petrus dann tauche deine hand ins weihwasser und geh in den himmel plötzlich entsteht unruhe in der schlange weil sich eine der nonnen vorgedrängelt hat petrus fragt die nonne warum drängelst du dich vor die nonne na wenn ich das zeug schon gurgeln muss will ich es tun bevor schwester maria ihren arsch reinhält ', 'die tochter kommt vor der hochzeitsnacht zu ihrer mutter mama ich hab da noch eine frage die mutter lächelt verständnisvoll und erzählt keine sorge mein kind ich werde dir helfen also wenn eine biene auf eine blume fliegt da unterbricht die tochter mama bumsen kann ich ich will nur wissen wie man knödel macht ', 'abends bevor die kleine sabine ins bett muss schreit sie lieber gott ich wünsche mir ein pony da stürmt die mutter ins zimmer und sagt aber sabine der liebe gott ist doch nicht schwerhörig ich weiß entgegnet sabine aber opa nebenan ', 'fritzchen und sein vater sind in der stadt da sagt fritz papaich muss mal pinkeln da sagt der vater pssst nicht so laut sonst hört das noch jemand sag lieber ich muss singen am abend schläft klein fritz bei seinem opa da sagt er zu ihm opaich muss mal singen der opa aber doch nicht mitten in der nacht fritz doch opaich muss aber mal ganz dringend singen opa nagut fritz dann sing mir mal was ins ohr ', 'drei piloten ein amerikaner ein deutscher und ein russe sitzen in der kneipe und unterhalten sich über die größe von flugzeugen der russe sagt also wir haben ein flugzeug mit dem können wir drei fußballmannschaften und 1000 mann publikum transportieren da prahlt der ami  well very good wir haben ein flugzeug mit dem können wir fünf fußballmannschaften und 2000 mann publikum transportieren da meint der amerikaner lächelnd sie in deutschland haben nicht so große flugzeuge da sagt dieser doch doch aber ich weiß die genauen größen nicht ich erzähle ihnen einfach mal von meinem letzten flug also ich flieg da über den atlantik und höre plötzlich ein geräusch ich sage also zu meinen bordingenieur anton anton schnapp dir mal den porsche und schau hinten nach was das sein könnte anton kommt nach vier stunden zurück grinst wie ein scheunentor und sagt es ist unwahrscheinlich was du für ein gehör hast da hat doch tatsächlich so ein idiot das klofenster offen gelassen jetzt ist eine boeing reingekommen und fliegt dauernd um die lampe und findet nicht wieder raus ', 'ein ostfriesischer blitzrechner ist im fernsehen moderator hier haben wir einen ameisenhaufen wie viele ameisen sehen sie ohne zu zögern meint der ostfriese 2753 moderator wie haben sie das denn so schnell gemacht ganz einfach beine gezählt und durch 6 geteilt ', 'zwei golfer spielen an ein einem par 5 das direkt an einer landstraße vorbeiführt als ein trauerzug die straße entlang zieht unterbricht einer der spieler das spiel zieht seine mütze und wartet bis der trauerzug vorbeizieht erst dann nimmt er das spiel wieder auf als er seinen flightpartner am grün wieder trifft spricht ihn dieser an ich wußte gar nicht daß du so sentimental bist und wegen einem trauerzug eine strafe wegen unangemessener verzögerung riskierst weist du antwortet der spieler ich denke das war ich ihr schuldig schließlich waren wir zwanzig jahre verheiratet ', 'ein deutscher ein holländer eine junge frau und eine nonne sitzen gemeinsam in einem zugabteil nach einer weile passiert der zug einen dunklen tunnel im dunkeln macht es auf einmal einen lauten schlag wie eine ohrfeige als der zug aus dem dunklen tunnel kommt reibt sich der holländer die wange der holländer denkt sich na da hat der junge typ wohl die das mädel angelangt und sie hat aus versehen mir eine geschmiert die nonne denkt da hat der holländer wohl die junge dame angegrapscht und sie hat ihm eine geschmiert die junge frau denkt da hat er wophl mich begrapschen wollen und aus versehen die nonne erwischt die ihm eine geschmiert hat der deutsche denkt sich beim nächsten tunnel hau ich dem holländer wieder eine rein ', 'bäuerin beim anwalt sie will sich scheiden lassen der anwalt da brauchen wir aber einen grund säuft er vielleicht der den sauf ich dreimal unter den tisch gibt er ihnen kein geld der soll es wagen einen penny zu behalten schlägt er sie den schmeiß ich selbst achtkantig aus dem fenster wie ist es denn mit der ehelichen treue da packen wir ihn das zweite kind ist nicht von ihm ', 'tina führt ihrem freund ihren neuen superkurzen minirock vor steht er mir fragt sie ihren freund aber ja flüstert er und mir erst ', 'eine blondine fährt mit ihrem motorrad über die autobahn als eine rockergang sie fragt warum sie eine pudelmütze trägt darauf antwortet sie ich habe einen test gemacht ich habe eine pudelmütze und einen motorradhelm von einem hochhaus geworfen der motorradhelm ist zersprungen die pudelmütze nicht ', 'papagei sitzt mir im flugzeug ein papagei gegenüber ich sage zu der stewardeß bringen sie mir doch bitte einen kaffee der kaffee kommt und kommt nicht der papagei sagt ei du schlampe bring mir mal nen kognak aber schnell sofort kriegt der seinen kognak das ganze wiederholt sich ich habe meinen kaffee immer noch nicht schließlich sage ich ei du schlampe wo bleibt mein kaffee geht die stewardeß zum kapitän und beschwert sich der schmeißt den papagei und mich aus dem flugzeug unterwegs fragt der papagei sag mal kannst du eigentlich fliegen ich sage nein sagt der und warum hast du dann so eine große fresse ', 'kommt der ehemann nach getaner arbeit nach hause als er aus dem auto steigt und zur haustüre geht sieht er seine frau mit 2 großen koffern aus dem haus kommen fragt der ehemann na du was hast du denn vor sagt sie ich gehe nach las vegas fragt er nach las vegas was zum donner willst du denn in las vegas sie ich habe gehört daß ich dort pro nacht 400 dollar kriege für die liebesdienste die ich dir gratis anbiete er schüttelt den kopf und geht ins haus nach 2 minuten kommt er wieder heraus ebenfalls mit gepacktem koffer fragt die frau was soll das denn jetzt wohin gehst du er ich gehe auch nach las vegas sie was heißt das was willst du in las vegas er ich will miterleben wie du mit 800 dollar im jahr überleben willst ', 'eine fußballmannschaft fliegt nach amerika aus langeweile beginnen die burschen in der maschine mit dem leder zu spielen der pilot kann die maschine kaum noch halten und schickt den funker nach hinten nach zwei minuten ist absolute ruhe wie hast du denn das gemacht  na ja meint er ich habe gesagt jungs es ist schönes wetter draußen spielt doch vor der tür ', 'warum man seinen hund nicht sex nennen sollte jeder der einen hund hat nennt ihn bello oder hasso um einen nicht so alltäglichen namen für meinen hund zu haben habe ich ihn damals sex genannt  es war ein fehler wie sich später herausstellen sollte als ich auf die gemeinde ging um ihn nach dem umzug bei der hundesteuer anzumelden sagte ich dem beamten dass ich meine steuern für sex bezahlen wollte er meinte dafür gäbe es noch keine steuer aber es ist für einen hund antwortete ich er meinte nur beischlaf mit tieren sei zwar verboten aber eine steuer gäbe es trotzdem nicht sie verstehen mich nicht sagte ich ich habe sex seit ich 9 jahre alt bin dann warf er mich raus als ich geheiratet habe und in die flitterwochen gefahren bin habe ich meinen hund mitgenommen da ich nicht wollte dass uns der hund nachts stört sagte ich dem mann am hotelempfang dass ich ein extra zimmer für sex bräuchte er meinte nur dass jedes zimmer des hotels für sex wäre sie verstehen mich nicht versuchte ich zu erklären sex hält mich die ganze nacht wach aber er meinte nur mich auch eines tages ging ich mit sex zu einer hundeausstellung jemand fragte mich was ich hier wollte und ich sagte ihm dass ich vorhatte sex in der ausstellung zu haben darauf meinte er ich solle vielleicht meine eigenen eintrittskarten drucken und verkaufen als ich ihn fragte ob die ausstellung im fernsehen übertragen würde nannte er mich pervers einmal war sex krank und ich musste ihn beim tierarzt lassen am nächsten tag wollte ich ihn abholen ich komme wegen meinem hund sagte ich welcher ist es denn fragte mich die frau beim tierarzt während sie in der kartei blätterte hasso oder bello  wie wärs mit sex fragte ich und bekam eine runterhauen am gleichen tag ist mir der hund auch noch abgehauen und ich musste im tierheim nach ihm suchen dort fragte mich jemand was ich wollte als ich ihm sagte dass ich sex suche meinte er hier wäre nicht der richtige ort danach zu suchen ich suchte noch die ganze nacht nach ihm um 4 uhr morgens fragte mich ein polizist was ich mitten in der nacht auf der straße suche ich sagte ihm dass ich sex suche er sperrte mich ein bei meiner scheidung wurden meine frau und ich vor gericht geladen um unsere habseligkeiten aufzuteilen natürlich wollte ich meinen hund keinesfalls an sie abtreten euer ehren ich hatte sex schon bevor ich verheiratet war sagte ich dem richter na und ich auch antwortete er nur aber meine frau will mir sex wegnehmen beschwerte ich mich er meinte nur das ist das was bei allen scheidungen passiert ', 'vier studenten der universität sydney waren so gut in organischer chemie daß sie alle ihre tests klausuren und praktika bisher in diesem semester mit 1 bestanden sie waren sich so sicher die abschlussprüfung zu schaffen so dass sie sich entschlossen das wochenende vor der prüfung nach canberra zu fahren wo einige freunde eine party schmissen sie amüsierten sich gut nach heftigem feiern verschliefen sie den ganzen sonntag und schafften es nicht vor montag morgen  dem tag der prüfung wieder zurück nach sydney sie entschlossen sich nicht zur prüfung zu gehen sondern dem professor nach der prüfung zu erzählen warum sie nicht kommen konnten die vier studenten erklärten ihm sie hätten in canberra ein wenig in den archiven der australian national university geforscht und geplant gehabt früh genug zurück zu sein aber sie hätten einen platten gehabt auf dem rückweg und keinen wagenheber dabei und es hätte ewig gedauert bis ihnen jemand geholfen hätte deswegen seien sie erst jetzt angekommen der professor dachte darüber nach und erlaubte ihnen dann die abschlußprüfung am nächsten tag nachzuholen die studenten waren unheimlich erleichtert und froh sie lernten die ganze nacht durch und am nächsten tag kamen sie pünktlich zum ausgemachten zeitpunkt zum professor dieser setzte jeden studenten in einen anderen raum gab ihnen die aufgaben und sagte ihnen sie sollten anfangen die 1 aufgabe brachte fünf punkte es war etwas einfaches über eine radikalreaktion cool dachten alle vier studenten in ihren separaten räumen das wird eine leichte prüfung jeder von ihnen schrieb die lösung der 1 aufgabe hin und drehte das blatt um 2 aufgabe 95 punkte welcher reifen war platt ', 'ein pärchen mittleren alters hatte zwei wunderschöne töchter wünschten sich aber immer einen sohn sie beschlossen noch ein letztes mal zu versuchen den ersehnten sohn zu bekommen die frau wurde schwanger und gebar einen gesunden jungen der glückliche vater beeilte sich ins krankenhaus zu kommen um seinen neuen sohn endlich zu sehen er wurde sehr bleich denn es war das hässlichste kind das er je gesehen hatte er sagte zu seiner frau niemals bin ich der vater dieses jungen sieh mal welche wunderschöne töchter ich gezeugt habe hast du mich heimlich betrogen darauf meint sie diesmal nicht ', 'eine junge nonne fährt per anhalter der fahrer findet sie sehr sexy und nähert seine hand ihrem knie da flüstert die nonne psalm90 vers 5 betreten hält der fahrer inne zuhause schlägt er in der bibel nach und liest du bist auf dem richtigen weg ', 'aufgeregter anruf im stellwerkshäuschen mit fernöstlichem akzent da liegt ein gleis auf dem bahndamm der bahnangestellte antwortet lachend das will ich hoffen daß da ein gleis auf dem bahndamm liegt und legt den spaßvogel auf nach 10 minuten klingelt erneut das telefon und der anrufer ein chinese sagt jetzt haben sie den gleis übelfahlen ', 'eine blondine zur anderen dieses jahr fällt weihnachten auf einen freitag sagt die andere hoffentlich nicht auf einen 13 ', 'eine supersexy frau kommt an die bar sie winkt dem barkeeper zu und als der vor ihr steht beugt sie sich verführerisch zu ihm hin und streicht ihm durch den bart sind sie der chef fragt sie und tätschelt zärtlich seine wange eigentlich nicht stammelt der barmann können sie ihn holen fragt sie und läßt ihre hand durch sein haar gleiten leider nein seufzt der barmann können sie dann etwas für mich tun säuselt sie und folgt mit ihren fingern der linie seiner lippen ich möchte eine nachricht für den chef hinterlassen sagt sie läßt dabei einen finger in seinen mundgleiten an dem er sanft lutscht worum geht es denn fragt der barkeeper fasziniert sagen sie ihm doch bitte daß es auf der damentoilette kein klopapier keine seife und keine handtücher mehr gibt ', 'der amerikanische verteidigungsminister beschließt aufgrund einer sparmaßnahme die drei dienstältesten generäle zu entlassen er bestellt die drei herren ins pentagon und macht ihnen folgendes angebot für jeden zentimeter ihrer körpergröße erhält jeder 1000 dollar abfindung der verteidigungsminister fragt den ersten wie wollen sie gemessen werden antwortet der erste general na ist doch logisch von den zehenspitzen bis zum scheitel der verteidigungsminister 184 cm macht 184000 dollar der general ist zufrieden der verteidigungsminister fragt den zweiten wie wollen sie gemessen werden der 2 general denkt sich das muss ich toppen stellt sich auf die zehenspitzen hält den linken arm hoch und sagt von den zehenspitzen bis zu den fingerspitzen der verteidigungsminister misst 234 cm macht 234000 dollar der general schaut zufrieden wird der dritte gerufen und gefragt wie wollen sie gemessen werden der 3 general von der penisspitze bis zu den eiern der verteidigungsminister ungläubig sind sie sich sicher der general ja der verteidigungsminister fängt an zu messen erschrickt und fragt den general wo zur hölle sind denn ihre eier der general in vietnam  ', 'pilot haben nur noch wenig treibstoff erbitten dringend anweisung tower wie ist ihre position habe sie nicht auf dem schirm pilot wir stehen auf bahn 2 und warten seit einer ewigkeit auf den tankwagen ', 'schäuble und steinmeier unterhalten sich am rande der haushaltsdebatte da meint steinmeier es mag wohl viele arten geben geld zu verdienen aber nur eine ehrliche und welche soll das sein fragt schäuble darauf steinmeier ich wusste doch dass sie die nicht kennen ', 'ein junges mädchen arbeitet in einem bordell und will das natürlich vor ihrer familie geheimhalten eines abends findet in dem bordell jedoch eine razzia statt und alle prostituierten müßen raus auf die straße und sich in einer reihe aufstellen ausgerechnet da biegt die oma von dem mädchen um die ecke sieht es und rennt natürlich auf die enkelin zu fragt die oma was machst du denn hier draußen wieso stehst du hier in einer schlange antwortet das mädchen ach da vorne werden orangen verschenkt ich hab mich hier angestellt um welche zu holen klasse  meint die oma  das mach ich auch sie geht zum ende der schlange und stellt sich an inzwischen werden alle mädchen von der polizei vernommen und als der polizist hinten an der schlange angekommen ist guckt er ganz ungläubig wie sie auch in ihrem alter wie machen sie das denn sagt die oma ach das ist ganz einfach ich nehm die zähne raus und saug sie aus ', 'eine frau hat ständig kopfschmerzen und geht mit dem problem zu ihrem arzt der rät ihr immer bei auftretenden kopfschmerzen fünf minuten lang ihre schläfen zu massieren und sich vorzusagen ich habe keine kopfschmerzen  ich habe keine kopfschmerzen  ich habe keine kopfschmerzen  sie tuts und die schmerzen sind wie weggeblasen klasse denkt sie wenn der arzt mir bei den kopfschmerzen so gut helfen konnte dann kann er bestimmt auch etwas gegen die potenzprobleme meines mannes tun und sie schickt ihren mann ebenfalls zu dem arzt der kommt abends wieder und sagt bevor wir es probieren brauche ich fünf minuten für mich geh doch schon mal ins schlafzimmer und warte auf mich nach fünf minuten kommt er tatsächlich und ist wie ausgewechselt von potenzschwierigkeiten keine spur mehr so geht das ein paar wochen aber immer mit den fünf minuten die er vorher für sich braucht das macht die frau natürlich neugierig eines tages belauscht sie ihn bei seinen fünf minuten und sieht wie er seine schläfen massiert und dabei murmelt das ist nicht meine frau  das ist nicht meine frau   ', 'zehn jahre lang betet herbert jedes wochenende  lieber gott lass mich doch bitte diesmal in der lotterie gewinnen immer vergeblich als er es eines tages wieder versucht ist plötzlich sein zimmer in strahlende helligkeit getaucht und eine tiefe stimme sagt verzweifelt gib mir doch eine chance herbert kauf dir um himmels willen endlich ein los ', 'ein ehepaar besichtigt einen bauernhof als sie mit der bäuerin über die wiese gehen reitet der hahn gerade auf der henne fragt die frau die bäuerin wie oft macht der hahn denn das so 68 mal am tag antwortet diese meint die ehefrau vorwurfsvoll zu ihrem mann siehst du darauf die frage des mannes an die bäuerin ja macht es denn der hahn immer mit derselben henne nein meint diese natürlich immer mit einer anderen darauf der mann stolz zu seiner frau siehst du ', 'fragt der sohn seinen vater darf ich bungiejumping machen darauf der vater dein leben hat begonnen als das gummi riss jetzt soll es nicht noch damit enden ', 'graham bell und samuel morse waren wahrhaft große männer berichtet lehrer schröder nicht nur dass sie das telefon und den morseapparat erfunden haben  nein beide haben sich auch nicht gescheut taubstumme frauen zu heiraten weist das nicht auf große tolerante und fürsorgliche geister hin meldet sich peter zu wort ich würde sagen es beweist eher dass männer wirklich großartiges leisten können wenn sie zu hause ihre ruhe haben ', 'eine blondine geht in der stadt spazieren und kommt zu einer laterne an dieser hangt ein zettel appartement zu vermieten die blondine denkt sich super ich brauche eh eine wohnung sie klopft an der laterne meiner meinung nach konnte der witz hier schon aufhören fand ihn sehr gut aber er geht noch weiter keiner macht auf sie wiederholt ihren versuch jedoch wird ihr nicht geöffnet eine blonde polizistin auf der anderen straßenseite beobachtet einige zeit die bemühungen der blondine fasst sich ein herz und geht zu ihr die polizistin fragt was machen sie hier eigentlich die blondine zeigt auf den an der laterne hangenden zettel appartement zu vermieten und bemerkt dazu dass sie schon seit geraumer zeit klopfe ihr jedoch niemand öffne die polizistin sieht die blondine an dann die laterne und bemerkt dann lapidar das gibt es nicht das licht brennt es muss jemand da sein ', 'nach der treibjagd inspiziert der baron die strecke 31 fasane 15 rebhühner 28 hasen eine wildsau ein treiber dem baron stockt der atem dann rast er mit dem schwerverletzten ins krankenhaus die paar schrotkugeln hätten ihm kaum geschadet erklärt der chefarzt aber dass ihre leute den mann ausgenommen haben wird er kaum überleben ', 'die lehrerin fragt was ist das es hat vier beine und ist braun sagt max ein reh richtig aber es könnte auch ein hund sein und was ist das es ist grün und hüpft herum sagt max ein frosch richtig aber es könnte auch eine heuschrecke sein da fragt der max frau lehrerin was ist das wenn ich es reinstecke ist es lang trocken und hart und wenn ich es wieder rauszieh ist es klein naß und schrumpelig die lehrerin gibt ihm eine hinter die ohren richtig sagt max aber es könnte auch mein kaugummi sein ', 'typisch mann mann und frau sind bei der schönsten sache der welt zugange  er oben nach ner weile fängt sie an ihm den kopf abzutasten er was machst du da sie ich suche die hörner er was für hörner sie weil du so teuflisch gut bist stellungswechsel jetzt ist sie oben und nach ner weile fängt auch er an ihren kopf abzutasten sie was machst du da er ich suche die hörner sie aha bin ich auch so teuflisch gut er nee aber schwer wie ne kuh ', 'haben sie auf dem weg nach italien denn auch den brenner überfahren ja wir haben einen überfahren  aber ob der brenner hieß  ', 'nach drei jahren kommt ein schotte in seine heimat zurück am flughafen sucht er erfolglos nach seinen brüdern bis ihn 2 bärtige ansprechen erkennst du uns nicht  warum habt ihr denn so lange bärte  du hast doch damals den rasierer mitgenommen ', 'kennen sie das neuste spiel auf deutschlands behörden  beamtenmikado wer sich zuerst bewegt hat verloren ', 'das junge ehepaar na wie schmeckt dir denn heute das mittagessen warum suchst du schon wieder streit ', 'kommt eine schlampe aufs sozialamt der sozialarbeiter bittet sie ein formular auszufüllen und zwar in jede zeile den namen eines ihrer kinder etwas erstaunt schaut er als sie ihm den bogen zurückgibt ich glaube sie haben mich falsch verstanden sie sollen nicht in jede zeile das selbe kind eintragen hab ich auch nicht jetzt sagen sie bloß dass alle ihre kinder max heißen wie wollen sie sie dann rufen das stimmt schon sie heißen alle max und wenn ich sie zum essen rufe schreie ich einfach max und schon kommen sie alle und wenn sie nur eines rufen wollen dann nenne ich es beim nachnamen ', 'das kamelkind fragt den kamelvater du papi warum haben wir eigentlich zwei höcker auf dem rücken darauf der kamelvater damit speichern wir nahrung wenn wir durch die wüste ziehen kamelkind und warum haben wir so lange wimpern kamelvater damit uns der wind nicht den sand in die augen bläst wenn wir durch die wüste ziehen kamelkind und warum haben wir hufe anstelle von füßen kamelvater damit wir nicht im sand einsinken wenn wir durch die wüste ziehen kamelkind und was machen wir dann im zoo ', 'eine straßenbahn in graz ist gedroschen voll ein mann fragt eine alte frau darf ich mich auf  ihren rucksack setzen ja antwortet die alte aber passen sie auf die eier auf fragt der mann sind eier drinnen frau nein ein stacheldraht ', 'treffen sich 2 planeten im weltall sagt der eine du siehst aber schlecht aus fehlt dir was sagt der zweite ach mir gehts gar nicht gut ich habe homo sapiens tröstet ihn der andere mach dir keine sorgen hatte ich auch mal das geht wieder vorbei ', 'welche drei worte machen einen hai glücklich mann über bord ', 'ein ostfriese bewirbt sich in kanada als holzfäller der personalchef ist sich nicht ganz sicher und sagt ok wir versuchen es mal wenn sie täglich 30 bäume fällen sind sie eingestellt unser ostfriese ist frohen mutes und kauft sich gleich eine super motorsäge am nächsten tag geht er frisch ans werk und schafft 26 bäume sagt der personalchef naja für den anfang nicht schlecht am nächsten tag streicht unser ostfriese sämtliche pausen und arbeitet den ganzen tag resultat 28 bäume sagt der personalchef ok einen tag gebe ich ihnen noch aber wenn sie morgen ihre 30 bäume nicht schaffen wird das nix am nächsten tag fängt unser ostfriese schon eine stunde eher an und schuftet wie ein berserker als alle anderen holzfäller schon weg sind ist er immer noch am ackern als ihn alle kräfte verlassen zählt er nach 29 bäume sagt der personalchef tja ich habe sie gewarnt sie sind gefeuert unser ostfriese ist stinksauer und rennt zu dem laden wo er die motorsäge gekauft hat hören sie mal ihre säge ist ja die absolute pleite ich will mein geld zurück der verkäufer nimmt sich die säge und macht einen test ob sie noch funktioniert der ganze raum vibriert rooaaaaarrrr darauf der ostfriese häh was ist das denn für ein geräusch ', 'fragt der lehrer die kinder im religionsunterricht wie kommt ein mensch in den himmel meldet sich ein bub und sagt nackt  und mit den füßen zuerst fragt der lehrer wie kommst du denn darauf darauf der kleine gestern nacht hab ich es genau gesehen meine mutter lag nackt im bett mit den füße nach oben und hat gezittert und geschrieen oh gott ich komme oh gott jetzt komm ich und was soll ich ihnen sagen herr lehrer wenn der papa nicht drauf gelegen hätte dann wäre sie glatt weggeflogen ', 'sagt der richter angeklagter sie sind freigesprochen aber hüten sie sich in zukunft vor schlechter gesellschaft jawohl herr richter ich hoffe nicht so bald wieder vor ihnen zu stehen ', 'eine nonne bespricht mit ihrem frauenarzt das ergebnis der untersuchung der arzt will die nonne auf den arm nehmen und eröffnet ihr also sie sind bei bester gesundheit und  herzlichen glückwunsch  sie sind schwanger die nonne empört sich also was die leute heutzutage alles auf die kerzen schmieren ', 'der himmel ist überfüllt deswegen sagt gott zu petrus wer ab jetzt an die himmelspforte tritt und der in den himmel möchte muss eines besonderen todes gestorben sein sonst kommt er hier nicht rein petrus nickt und mach sich an die arbeit kaum steht er ein paar minuten kommt ein mann an petrus fragt wie bist du gestorben der mann erzählt ich hatte schon des längeren den verdacht dass meine frau mich betrügt deswegen bin ich heute ein bisschen früher nach hause gekommen und wer liegt da nackt im bett meine frau natrülich ich renn also durch die ganze bude aber kein mann zu sehen auf dem balkon werd ich fündig da hängt doch tatsächlich ein nackter mann am geländer ich mir schnell nen hammer geholt und ihm auf die finger gehämmert leider ist der der mann auf einem gebüsch gelandet und hat sich nicht verletzt ich wieder rein hol den kühlschrank und werf ihn nach dem mann und hab sogar getroffen naja und wegen dieser ganzen aufregung hab ich nen herzinfarkt bekommen und jetzt steh ich hier petrus nickt und lässt ihn hinein keine minute später kommt wieder ein mann an petrus fragt wie bist du den gestorben der mann erzählt ich mache meinen täglichen sport immer auf dem balkon nackt dabei fühle ich mich wohler aber heute bin ich ins straucheln geraten und über das geländer gefallen zum glück konnte ich mich am balkon meines unteren nachbars festhalten da kommt dieser schweinehund an und hämmert mir auf die finger ich lass natürlich los und lande zum glück auf einem gebüsch und wie ich mir gerade so den dreck abklopfe kam auch schon dieser kühlschrank geflogen naja und tot war ich petrus nickt und lässte ihn ein eine minute später kommt wieder ein mann petrus fragt wie bist du gestorben der mann nackt im kühlschrank ', 'die dirigenten karajan furtwängler und böhm sitzen auf einer wolke und langweilen sich tja meine herren meint furtwängler es ist doch wohl klar daß ich der beste dirigent bin moment meint böhm moment gestern ist mir im traum unser göttlicher alleroberster erschienen der hat auf mich gedeutet und laut gerufen du bist der beste dirigent aller zeiten darauf herbert v karajan bitte was soll ich da gesagt haben ']\n"
          ],
          "name": "stdout"
        }
      ]
    },
    {
      "cell_type": "code",
      "metadata": {
        "id": "ZevTPwVTcPZ3",
        "colab": {
          "base_uri": "https://localhost:8080/"
        },
        "outputId": "a9cba1a9-bba3-4c94-84c7-cd55cdbc1581"
      },
      "source": [
        "from collections import Counter\n",
        "\n",
        "words = [word.split(\" \") for word in jokes]\n",
        "all_words = [w for word in words for w in word]\n",
        "\n",
        "#word_buf = set()\n",
        "#for word in words:\n",
        "#  for w in word:\n",
        "#    word_buf.add(w)\n",
        "print(all_words[:10])\n",
        "word_counts = Counter(all_words)\n",
        "vocab = sorted(word_counts, key=word_counts.get, reverse=True)\n",
        "\n",
        "word2idx = {word: idx for (idx, word) in enumerate(vocab)}\n",
        "idx2word = {idx: word for (idx, word) in enumerate(vocab)}\n",
        "\n",
        "wordsNr = [word2idx[w] for word in words for w in word]\n",
        "\n",
        "print(word2idx['bauer'])"
      ],
      "execution_count": 33,
      "outputs": [
        {
          "output_type": "stream",
          "text": [
            "['zwei', 'bauern', 'am', 'stammtisch', 'ich', 'hab', 'letzte', 'woche', 'alle', 'meine']\n",
            "299\n"
          ],
          "name": "stdout"
        }
      ]
    },
    {
      "cell_type": "code",
      "metadata": {
        "id": "VwOsT-5XZTM1"
      },
      "source": [
        "import numpy as np\n",
        "from torch.utils.data import TensorDataset, DataLoader\n",
        "\n",
        "sequence_len = 6\n"
      ],
      "execution_count": 34,
      "outputs": []
    },
    {
      "cell_type": "code",
      "metadata": {
        "colab": {
          "base_uri": "https://localhost:8080/"
        },
        "id": "kvFmR0t8qIHo",
        "outputId": "c85575b9-dabf-4393-afb5-578c0a77afcc"
      },
      "source": [
        "train_ds = []\n",
        "train_label_ds = []\n",
        "\n",
        "for i in range(len(wordsNr)//sequence_len):\n",
        "  k=0\n",
        "  train = wordsNr[i:i+sequence_len]\n",
        "  label = wordsNr[i+1:i+1+sequence_len]\n",
        "\n",
        "  #padding\n",
        "  if len(label) < sequence_len:\n",
        "    y = sequence_len - len(label)\n",
        "    for j in range(sequence_len - len(label)):\n",
        "      label.append(0)\n",
        "\n",
        "  train2 = [t for t in train]\n",
        "  label2 = [l for l in label]\n",
        "\n",
        "  train_ds.append(train2)\n",
        "  train_label_ds.append(label2)\n",
        "\n",
        "train_np = np.array(train_ds)\n",
        "train_label_np = np.array(train_label_ds)\n",
        "\n",
        "tensor_x = torch.LongTensor(train_np)\n",
        "tensor_y = torch.LongTensor(train_label_np)\n",
        "\n",
        "print(tensor_x.shape)\n",
        "print(tensor_y.shape)\n",
        "\n",
        "train_dataset = TensorDataset(tensor_x, tensor_y) # create your datset\n",
        "dataloader = DataLoader(train_dataset, batch_size=10, drop_last=True) # create your dataloader\n"
      ],
      "execution_count": 35,
      "outputs": [
        {
          "output_type": "stream",
          "text": [
            "torch.Size([71418, 6])\n",
            "torch.Size([71418, 6])\n"
          ],
          "name": "stdout"
        }
      ]
    },
    {
      "cell_type": "code",
      "metadata": {
        "id": "hhU-Kp6V0H4M"
      },
      "source": [
        "import torch\n",
        "from torch import nn\n",
        "\n",
        "class Model(nn.Module):\n",
        "    def __init__(self, num_layers):\n",
        "        super(Model, self).__init__()\n",
        "        self.lstm_size = 256\n",
        "        self.embedding_dim = 256\n",
        "        self.num_layers = num_layers\n",
        "\n",
        "        n_vocab = len(idx2word)\n",
        "        self.embedding = nn.Embedding(\n",
        "            num_embeddings=n_vocab,\n",
        "            embedding_dim=self.embedding_dim,\n",
        "        )\n",
        "        self.lstm = nn.LSTM(\n",
        "            input_size=self.lstm_size,\n",
        "            hidden_size=self.lstm_size,\n",
        "            num_layers=self.num_layers,\n",
        "            batch_first=True\n",
        "        )\n",
        "        self.fc = nn.Linear(self.lstm_size, len(vocab))\n",
        "\n",
        "\n",
        "    def forward(self, x, prev_state):\n",
        " \n",
        "        embed = self.embedding(x)\n",
        "        output, state = self.lstm(embed, prev_state)\n",
        "        #output, state = self.lstm2(embed, state)\n",
        "        output = self.fc(output)\n",
        "        return output, state\n",
        "\n",
        "    def init_hidden(self, bts):\n",
        "        return (torch.zeros(self.num_layers, bts, self.lstm_size).to(device),\n",
        "                torch.zeros(self.num_layers, bts, self.lstm_size).to(device))"
      ],
      "execution_count": 36,
      "outputs": []
    },
    {
      "cell_type": "code",
      "metadata": {
        "id": "vnMbwvudkwwG"
      },
      "source": [
        "import argparse\n",
        "import torch\n",
        "import numpy as np\n",
        "from torch import nn, optim\n",
        "from torch.utils.data import DataLoader\n",
        "\n",
        "\n",
        "def train(dataset, model, batch_size, epoch, sequence_length):\n",
        "    criterion = nn.CrossEntropyLoss()\n",
        "    optimizer = optim.Adam(model.parameters(), lr=0.001)\n",
        "\n",
        "    model.train()\n",
        "\n",
        "    for i in range(epoch):\n",
        "      (h, c) = model.init_hidden(batch_size)\n",
        "      myLoss = 0\n",
        "      k = 0\n",
        "\n",
        "      for idx, (inputs, labels) in enumerate(dataset):\n",
        "\n",
        "        model.zero_grad()\n",
        "        inputs, labels = inputs.to(device), labels.to(device)\n",
        "        \n",
        "        output, (h, c) = model(inputs, (h, c))\n",
        "        \n",
        "        loss = criterion(output.transpose(1, 2), labels)\n",
        "\n",
        "        h = h.detach()\n",
        "        c = c.detach()\n",
        "\n",
        "        loss.backward()\n",
        "        optimizer.step()\n",
        "\n",
        "        nn.utils.clip_grad_norm_(model.parameters(), 5)\n",
        "\n",
        "        myLoss += loss.item()\n",
        "        k = idx\n",
        "\n",
        "        #if idx % 1000 == 999:\n",
        "        # print({ 'epoch': i, 'idx': idx, 'loss': loss.item() })          \n",
        "\n",
        "      print({ 'epoch': i, 'loss': myLoss/k })\n",
        "     # torch.save(model.state_dict(), '/content/drive/MyDrive/Colab Notebooks/data/joke_model')\n"
      ],
      "execution_count": 37,
      "outputs": []
    },
    {
      "cell_type": "code",
      "metadata": {
        "colab": {
          "base_uri": "https://localhost:8080/",
          "height": 358
        },
        "id": "8tPbiqYDsd3k",
        "outputId": "9d130eb4-828b-4c69-f1d0-8ae2fd8e45d4"
      },
      "source": [
        "model = Model(5)\n",
        "\n",
        "model.load_state_dict(torch.load('/content/drive/MyDrive/Colab Notebooks/data/joke_model', map_location=torch.device(device)))\n",
        "\n",
        "model = model.to(device)\n",
        "print(device)\n",
        "\n",
        "train(dataloader, model, batch_size=10, epoch=30, sequence_length=sequence_len)"
      ],
      "execution_count": 38,
      "outputs": [
        {
          "output_type": "stream",
          "text": [
            "cpu\n"
          ],
          "name": "stdout"
        },
        {
          "output_type": "error",
          "ename": "KeyboardInterrupt",
          "evalue": "ignored",
          "traceback": [
            "\u001b[0;31m---------------------------------------------------------------------------\u001b[0m",
            "\u001b[0;31mKeyboardInterrupt\u001b[0m                         Traceback (most recent call last)",
            "\u001b[0;32m<ipython-input-38-2c65c222cc5a>\u001b[0m in \u001b[0;36m<module>\u001b[0;34m()\u001b[0m\n\u001b[1;32m      6\u001b[0m \u001b[0mprint\u001b[0m\u001b[0;34m(\u001b[0m\u001b[0mdevice\u001b[0m\u001b[0;34m)\u001b[0m\u001b[0;34m\u001b[0m\u001b[0;34m\u001b[0m\u001b[0m\n\u001b[1;32m      7\u001b[0m \u001b[0;34m\u001b[0m\u001b[0m\n\u001b[0;32m----> 8\u001b[0;31m \u001b[0mtrain\u001b[0m\u001b[0;34m(\u001b[0m\u001b[0mdataloader\u001b[0m\u001b[0;34m,\u001b[0m \u001b[0mmodel\u001b[0m\u001b[0;34m,\u001b[0m \u001b[0mbatch_size\u001b[0m\u001b[0;34m=\u001b[0m\u001b[0;36m10\u001b[0m\u001b[0;34m,\u001b[0m \u001b[0mepoch\u001b[0m\u001b[0;34m=\u001b[0m\u001b[0;36m30\u001b[0m\u001b[0;34m,\u001b[0m \u001b[0msequence_length\u001b[0m\u001b[0;34m=\u001b[0m\u001b[0msequence_len\u001b[0m\u001b[0;34m)\u001b[0m\u001b[0;34m\u001b[0m\u001b[0;34m\u001b[0m\u001b[0m\n\u001b[0m",
            "\u001b[0;32m<ipython-input-37-06fc61eabb62>\u001b[0m in \u001b[0;36mtrain\u001b[0;34m(dataset, model, batch_size, epoch, sequence_length)\u001b[0m\n\u001b[1;32m     29\u001b[0m         \u001b[0mc\u001b[0m \u001b[0;34m=\u001b[0m \u001b[0mc\u001b[0m\u001b[0;34m.\u001b[0m\u001b[0mdetach\u001b[0m\u001b[0;34m(\u001b[0m\u001b[0;34m)\u001b[0m\u001b[0;34m\u001b[0m\u001b[0;34m\u001b[0m\u001b[0m\n\u001b[1;32m     30\u001b[0m \u001b[0;34m\u001b[0m\u001b[0m\n\u001b[0;32m---> 31\u001b[0;31m         \u001b[0mloss\u001b[0m\u001b[0;34m.\u001b[0m\u001b[0mbackward\u001b[0m\u001b[0;34m(\u001b[0m\u001b[0;34m)\u001b[0m\u001b[0;34m\u001b[0m\u001b[0;34m\u001b[0m\u001b[0m\n\u001b[0m\u001b[1;32m     32\u001b[0m         \u001b[0moptimizer\u001b[0m\u001b[0;34m.\u001b[0m\u001b[0mstep\u001b[0m\u001b[0;34m(\u001b[0m\u001b[0;34m)\u001b[0m\u001b[0;34m\u001b[0m\u001b[0;34m\u001b[0m\u001b[0m\n\u001b[1;32m     33\u001b[0m \u001b[0;34m\u001b[0m\u001b[0m\n",
            "\u001b[0;32m/usr/local/lib/python3.7/dist-packages/torch/_tensor.py\u001b[0m in \u001b[0;36mbackward\u001b[0;34m(self, gradient, retain_graph, create_graph, inputs)\u001b[0m\n\u001b[1;32m    253\u001b[0m                 \u001b[0mcreate_graph\u001b[0m\u001b[0;34m=\u001b[0m\u001b[0mcreate_graph\u001b[0m\u001b[0;34m,\u001b[0m\u001b[0;34m\u001b[0m\u001b[0;34m\u001b[0m\u001b[0m\n\u001b[1;32m    254\u001b[0m                 inputs=inputs)\n\u001b[0;32m--> 255\u001b[0;31m         \u001b[0mtorch\u001b[0m\u001b[0;34m.\u001b[0m\u001b[0mautograd\u001b[0m\u001b[0;34m.\u001b[0m\u001b[0mbackward\u001b[0m\u001b[0;34m(\u001b[0m\u001b[0mself\u001b[0m\u001b[0;34m,\u001b[0m \u001b[0mgradient\u001b[0m\u001b[0;34m,\u001b[0m \u001b[0mretain_graph\u001b[0m\u001b[0;34m,\u001b[0m \u001b[0mcreate_graph\u001b[0m\u001b[0;34m,\u001b[0m \u001b[0minputs\u001b[0m\u001b[0;34m=\u001b[0m\u001b[0minputs\u001b[0m\u001b[0;34m)\u001b[0m\u001b[0;34m\u001b[0m\u001b[0;34m\u001b[0m\u001b[0m\n\u001b[0m\u001b[1;32m    256\u001b[0m \u001b[0;34m\u001b[0m\u001b[0m\n\u001b[1;32m    257\u001b[0m     \u001b[0;32mdef\u001b[0m \u001b[0mregister_hook\u001b[0m\u001b[0;34m(\u001b[0m\u001b[0mself\u001b[0m\u001b[0;34m,\u001b[0m \u001b[0mhook\u001b[0m\u001b[0;34m)\u001b[0m\u001b[0;34m:\u001b[0m\u001b[0;34m\u001b[0m\u001b[0;34m\u001b[0m\u001b[0m\n",
            "\u001b[0;32m/usr/local/lib/python3.7/dist-packages/torch/autograd/__init__.py\u001b[0m in \u001b[0;36mbackward\u001b[0;34m(tensors, grad_tensors, retain_graph, create_graph, grad_variables, inputs)\u001b[0m\n\u001b[1;32m    147\u001b[0m     Variable._execution_engine.run_backward(\n\u001b[1;32m    148\u001b[0m         \u001b[0mtensors\u001b[0m\u001b[0;34m,\u001b[0m \u001b[0mgrad_tensors_\u001b[0m\u001b[0;34m,\u001b[0m \u001b[0mretain_graph\u001b[0m\u001b[0;34m,\u001b[0m \u001b[0mcreate_graph\u001b[0m\u001b[0;34m,\u001b[0m \u001b[0minputs\u001b[0m\u001b[0;34m,\u001b[0m\u001b[0;34m\u001b[0m\u001b[0;34m\u001b[0m\u001b[0m\n\u001b[0;32m--> 149\u001b[0;31m         allow_unreachable=True, accumulate_grad=True)  # allow_unreachable flag\n\u001b[0m\u001b[1;32m    150\u001b[0m \u001b[0;34m\u001b[0m\u001b[0m\n\u001b[1;32m    151\u001b[0m \u001b[0;34m\u001b[0m\u001b[0m\n",
            "\u001b[0;31mKeyboardInterrupt\u001b[0m: "
          ]
        }
      ]
    },
    {
      "cell_type": "code",
      "metadata": {
        "id": "ksigjPUSwt5c"
      },
      "source": [
        "torch.save(model.state_dict(), '/content/drive/MyDrive/Colab Notebooks/data/joke_model')"
      ],
      "execution_count": 34,
      "outputs": []
    },
    {
      "cell_type": "code",
      "metadata": {
        "id": "FlMyeo6qVWqt",
        "colab": {
          "base_uri": "https://localhost:8080/"
        },
        "outputId": "14ebc1b5-73ba-46ca-b9b4-9cd63a2d9391"
      },
      "source": [
        "newModel = Model(5)\n",
        "\n",
        "newModel.load_state_dict(torch.load('/content/drive/MyDrive/Colab Notebooks/data/joke_model', map_location=torch.device('cpu')))\n",
        "newModel.eval()"
      ],
      "execution_count": 39,
      "outputs": [
        {
          "output_type": "execute_result",
          "data": {
            "text/plain": [
              "Model(\n",
              "  (embedding): Embedding(24563, 256)\n",
              "  (lstm): LSTM(256, 256, num_layers=5, batch_first=True)\n",
              "  (fc): Linear(in_features=256, out_features=24563, bias=True)\n",
              ")"
            ]
          },
          "metadata": {
            "tags": []
          },
          "execution_count": 39
        }
      ]
    },
    {
      "cell_type": "code",
      "metadata": {
        "id": "dXrl8DaTX5TS",
        "colab": {
          "base_uri": "https://localhost:8080/"
        },
        "outputId": "abcf1ef5-f3db-4269-c366-a4413d84b26e"
      },
      "source": [
        "newModel.eval()\n",
        "\n",
        "\n",
        "text = \"sagt die nonne zum bauern\"\n",
        "words = text.split(' ')\n",
        "h = newModel.init_hidden(5)\n",
        "\n",
        "for i in range(0, 15):\n",
        "  arr = [word2idx[w] for w in words[i:]]\n",
        "  x = torch.tensor(arr)\n",
        "\n",
        "  x = x.unsqueeze(-1)\n",
        "  x = x.to(device)\n",
        "  y_pred, h = newModel(x, h)\n",
        "  last_word_logits = y_pred[0][-1]\n",
        "\n",
        "  p = torch.nn.functional.softmax(last_word_logits, dim=0).detach().numpy()\n",
        "  word_index = np.random.choice(len(last_word_logits), p=p)\n",
        "  words.append(idx2word[word_index])\n",
        "\n",
        "print(words)\n",
        "#word_index = np.random.choice(len(last_word_logits), p=p)\n"
      ],
      "execution_count": 40,
      "outputs": [
        {
          "output_type": "stream",
          "text": [
            "['sagt', 'die', 'nonne', 'zum', 'bauern', 'das', 'liebe', 'das', 'letzten', 'holger', 'ist', 'mama', 'ist', 'angefasst', 'na', 'erwiederte', 'zu', 'nicht', 'die', 'sagt']\n"
          ],
          "name": "stdout"
        }
      ]
    },
    {
      "cell_type": "code",
      "metadata": {
        "id": "2EtXovqHysIc"
      },
      "source": [
        ""
      ],
      "execution_count": 40,
      "outputs": []
    }
  ]
}